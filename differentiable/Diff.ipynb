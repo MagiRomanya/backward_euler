{
 "cells": [
  {
   "cell_type": "code",
   "execution_count": 1,
   "id": "6109f4b7",
   "metadata": {},
   "outputs": [],
   "source": [
    "from symulathon import Simulation\n",
    "import numpy as np\n",
    "import matplotlib.pyplot as plt\n",
    "from matplotlib import cm\n",
    "from tqdm.notebook import tqdm\n",
    "from simulation_functions import simulate\n",
    "%matplotlib notebook"
   ]
  },
  {
   "cell_type": "code",
   "execution_count": 2,
   "id": "8b455bb7",
   "metadata": {},
   "outputs": [],
   "source": [
    "sim = Simulation(1, 1)\n",
    "nDoF = sim.getDoF()\n",
    "mass = sim.getMassMatrix()\n",
    "h = sim.getTimeStep()\n",
    "DIFF_FRAMES = 100"
   ]
  },
  {
   "cell_type": "code",
   "execution_count": 3,
   "id": "f7031605",
   "metadata": {},
   "outputs": [
    {
     "data": {
      "application/vnd.jupyter.widget-view+json": {
       "model_id": "d6cccb507db646e6bd73f88af8932e22",
       "version_major": 2,
       "version_minor": 0
      },
      "text/plain": [
       "  0%|          | 0/21 [00:00<?, ?it/s]"
      ]
     },
     "metadata": {},
     "output_type": "display_data"
    }
   ],
   "source": [
    "n_points = 21\n",
    "k_values = np.linspace(0.01, 6, n_points)\n",
    "k_bend_values = np.linspace(0, 2, n_points-1)\n",
    "# k_values = np.linspace(3.95, 4.05, n_points)\n",
    "# k_bend_values = np.linspace(0, 0.2, n_points)\n",
    "X, Y = np.meshgrid(k_values, k_bend_values)\n",
    "\n",
    "g_values = X.tolist()\n",
    "dgdk_values = X.tolist()\n",
    "dgdk_bend_values = X.tolist()\n",
    "ones = np.zeros(X.shape)\n",
    "\n",
    "# Computation of the surface and gradients\n",
    "for i in tqdm(range(len(k_values))):\n",
    "    for j in range(len(k_bend_values)):\n",
    "        bp = simulate(k_values[i], k_bend_values[j], DIFF_FRAMES)\n",
    "        dgdp = bp.get_dgdp()\n",
    "        dgdk_values[j][i] = dgdp[0]\n",
    "        dgdk_bend_values[j][i] = dgdp[1]\n",
    "        g_values[j][i] = bp.get_g()\n",
    "\n",
    "# Finite differences\n",
    "dk = k_values[1]-k_values[0]\n",
    "dk_bend = k_bend_values[1]-k_bend_values[0]\n",
    "dgdk_bend_values_finite, dgdk_values_finite = np.gradient(g_values, dk_bend, dk)"
   ]
  },
  {
   "cell_type": "code",
   "execution_count": 6,
   "id": "856521d5",
   "metadata": {},
   "outputs": [],
   "source": [
    "# Plotting\n",
    "# 3D plot\n",
    "fig, ax = plt.subplots(subplot_kw={\"projection\": \"3d\"})\n",
    "g_values = np.array(g_values)\n",
    "dgdk_values = np.array(dgdk_values)\n",
    "dgdk_bend_values = np.array(dgdk_bend_values)\n",
    "diff = np.sqrt(\n",
    "    (dgdk_values - dgdk_values_finite)**2 +\n",
    "    (dgdk_bend_values - dgdk_bend_values_finite)**2)\n",
    "dfdp_magnitude_finite = np.sqrt(\n",
    "    dgdk_values_finite**2 + dgdk_bend_values_finite**2)\n",
    "diff_rel = diff / np.max(dfdp_magnitude_finite)\n",
    "\n",
    "colors = cm.Greys(diff)\n",
    "# surf = ax.plot_surface(X, Y, g_values, facecolors=colors)\n",
    "surf = ax.plot_surface(X, Y, g_values)\n",
    "\n",
    "gradient_finite = ax.quiver(X, Y, g_values,\n",
    "                            dgdk_values_finite,\n",
    "                            dgdk_bend_values_finite,\n",
    "                            ones,\n",
    "                            arrow_length_ratio=0.001,\n",
    "                            color=\"red\",\n",
    "                            length=0.5,\n",
    "                            normalize=True)\n",
    "ax.set(\n",
    "    xlabel=\"k values\",\n",
    "    ylabel=\"k bend values\",\n",
    "    zlabel=\"loss\",\n",
    ")\n",
    "# Add a color bar which maps values to colors.\n",
    "# fig.colorbar(surf, shrink=0.5, aspect=5)\n",
    "plt.show()\n",
    "plt.contourf(X, Y, g_values, levels=40)\n",
    "plt.colorbar()\n",
    "plt.show()"
   ]
  },
  {
   "cell_type": "code",
   "execution_count": 7,
   "id": "4599b74a",
   "metadata": {},
   "outputs": [],
   "source": [
    "x0 = np.array([1, 1])\n",
    "MAX_ITERATIONS = 1000\n",
    "ALPHA = 1e-6\n",
    "previous_g = 0"
   ]
  },
  {
   "cell_type": "code",
   "execution_count": 8,
   "id": "07c06733",
   "metadata": {},
   "outputs": [],
   "source": [
    "for i in range(MAX_ITERATIONS):\n",
    "    bp = simulate(x0[0], x0[1], DIFF_FRAMES)\n",
    "    g = bp.get_g()\n",
    "    diff = g - previous_g\n",
    "    previous_g = g\n",
    "    diff_str = \"\"\n",
    "    if (diff < 0):\n",
    "        diff_str = Fore.GREEN + str(diff) + Style.RESET_ALL\n",
    "    else:\n",
    "        diff_str = Fore.RED + str(diff) + Style.RESET_ALL\n",
    "    print(f\"Iteration #{i}\\t loss = {g:10.4e},\",\n",
    "            \"Difference = \"+diff_str)\n",
    "    dgdp = bp.get_dgdp()\n",
    "    x0 = x0 - ALPHA * dgdp\n",
    "    print(f\"New parameters {x0}\")"
   ]
  },
  {
   "cell_type": "code",
   "execution_count": null,
   "id": "b233ad6e",
   "metadata": {},
   "outputs": [],
   "source": []
  }
 ],
 "metadata": {
  "kernelspec": {
   "display_name": "Python 3 (ipykernel)",
   "language": "python",
   "name": "python3"
  },
  "language_info": {
   "codemirror_mode": {
    "name": "ipython",
    "version": 3
   },
   "file_extension": ".py",
   "mimetype": "text/x-python",
   "name": "python",
   "nbconvert_exporter": "python",
   "pygments_lexer": "ipython3",
   "version": "3.11.3"
  }
 },
 "nbformat": 4,
 "nbformat_minor": 5
}
