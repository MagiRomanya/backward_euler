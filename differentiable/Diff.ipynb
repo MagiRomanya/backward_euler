{
 "cells": [
  {
   "cell_type": "code",
   "execution_count": 1,
   "id": "4605ce10",
   "metadata": {},
   "outputs": [
    {
     "name": "stdout",
     "output_type": "stream",
     "text": [
      "Loading mesh /home/magi/Documents/Project/Renderer/img/3d_axis.obj with TinyObj.\n"
     ]
    }
   ],
   "source": [
    "import numpy as np\n",
    "import matplotlib.pyplot as plt\n",
    "from tqdm.notebook import tqdm\n",
    "import symulathon\n",
    "from solve_system import solve_system\n",
    "from recorder import SimulationReader\n",
    "from backpropagation import Backpropagation"
   ]
  },
  {
   "cell_type": "code",
   "execution_count": 2,
   "id": "1781cfce",
   "metadata": {},
   "outputs": [],
   "source": [
    "def newton_iteration(x0, v0):\n",
    "    symulathon.fill_containers()\n",
    "    A = symulathon.get_equation_matrix()\n",
    "    b = symulathon.get_equation_vector()\n",
    "\n",
    "    delta_v = solve_system(A, b)\n",
    "\n",
    "    v2 = v0 + delta_v\n",
    "    x2 = x0 + h * v2\n",
    "\n",
    "    symulathon.set_state(x2, v2)\n",
    "    \n",
    "    \n",
    "def newton_iterations(x0, v0, n=1):\n",
    "    A = symulathon.get_equation_matrix()\n",
    "    b = symulathon.get_equation_vector()\n",
    "\n",
    "    delta_v = solve_system(A, b)\n",
    "\n",
    "    v1 = v0 + delta_v\n",
    "    x1 = x0 + h * v1\n",
    "    symulathon.set_state(x1, v1)\n",
    "    \n",
    "    for i in range(n-1):\n",
    "        newton_iteration(x0, v0)\n"
   ]
  },
  {
   "cell_type": "code",
   "execution_count": 3,
   "id": "92b83504",
   "metadata": {},
   "outputs": [],
   "source": [
    "def simulate():\n",
    "    reader = SimulationReader(nDoF)\n",
    "    backpropagation = Backpropagation(mass, h)\n",
    "    symulathon.restart_simulation(K_GUESS)\n",
    "    for _ in range(DIFF_FRAMES+1):\n",
    "        ##################################\n",
    "        # ALWAYS fill containers first!\n",
    "        symulathon.fill_containers()\n",
    "        ##################################\n",
    "\n",
    "        x = symulathon.get_position()\n",
    "        v = symulathon.get_velocity()\n",
    "        x_t, v_t = reader.get_next_state()\n",
    "\n",
    "        A = symulathon.get_equation_matrix()\n",
    "        b = symulathon.get_equation_vector()\n",
    "\n",
    "        dfdp = symulathon.get_parameter_jacobian()\n",
    "        dfdx = symulathon.get_force_position_jacobian()\n",
    "        backpropagation.step(x, v, x_t, v_t, A, dfdp, dfdx)\n",
    "\n",
    "        # delta_v = solve_system(A, b)\n",
    "        # symulathon.recieve_delta_v(delta_v)\n",
    "        newton_iterations(x, v)\n",
    "        # symulathon.process_input()\n",
    "        # symulathon.render_state()\n",
    "\n",
    "    dgdp = backpropagation.get_dgdp()\n",
    "    g = backpropagation.get_g()\n",
    "    return (g, dgdp)"
   ]
  },
  {
   "cell_type": "code",
   "execution_count": 4,
   "id": "07102830",
   "metadata": {},
   "outputs": [
    {
     "name": "stdout",
     "output_type": "stream",
     "text": [
      "TinyObjReader: Material file [ 3d_axis_test.mtl ] not found in a path : /home/magi/Documents/Project/Renderer/img/\n",
      "Failed to load material file(s). Use default material.\n",
      "Loading mesh /home/magi/Documents/Project/Renderer/img/bunny.obj with TinyObj.\n"
     ]
    }
   ],
   "source": [
    "symulathon.initialize_scene()\n",
    "symulathon.disable_rendering()\n",
    "nDoF = symulathon.get_nDoF()\n",
    "mass = symulathon.get_mass_matrix()\n",
    "h = symulathon.get_time_step()\n",
    "K_GUESS = 0.1\n",
    "DIFF_FRAMES = 2\n",
    "\n"
   ]
  },
  {
   "cell_type": "code",
   "execution_count": 5,
   "id": "cc59c5c3",
   "metadata": {},
   "outputs": [
    {
     "data": {
      "application/vnd.jupyter.widget-view+json": {
       "model_id": "7be28be5a09f48ea9395d0d289c5decb",
       "version_major": 2,
       "version_minor": 0
      },
      "text/plain": [
       "  0%|          | 0/1000 [00:00<?, ?it/s]"
      ]
     },
     "metadata": {},
     "output_type": "display_data"
    }
   ],
   "source": [
    "k_values = np.linspace(0.01, 10, 1000)\n",
    "g_values = []\n",
    "dgdp_values = []\n",
    "for k in tqdm(k_values):\n",
    "    K_GUESS = k\n",
    "    g, dgdp = simulate()\n",
    "    g_values.append(g)\n",
    "    dgdp_values.append(dgdp[0])\n",
    "\n",
    "# Calculate finite differences\n",
    "dgdp_finite = []\n",
    "for i in range(len(g_values)-1):\n",
    "    value = (g_values[i+1]-g_values[i]) / (k_values[i+1] - k_values[i])\n",
    "    dgdp_finite.append(value)\n",
    "dgdp_finite.append(dgdp_finite[-1])"
   ]
  },
  {
   "cell_type": "code",
   "execution_count": 6,
   "id": "dd5c3a8c",
   "metadata": {},
   "outputs": [
    {
     "name": "stdout",
     "output_type": "stream",
     "text": [
      "1000 1000 1000 1000\n",
      "0.00031915443188604335\n"
     ]
    },
    {
     "data": {
      "image/png": "[encoded data removed]",
      "text/plain": [
       "<Figure size 640x480 with 1 Axes>"
      ]
     },
     "metadata": {},
     "output_type": "display_data"
    }
   ],
   "source": [
    "print(len(k_values), len(dgdp_finite), len(g_values), len(dgdp_values))\n",
    "plt.plot(k_values, g_values, \"-\", label=\"Loss Function\")\n",
    "plt.plot(k_values, dgdp_finite, \".\", label=\"Finite dgdp\")\n",
    "plt.plot(k_values, dgdp_values, \"x\", label=\"Backpropagation dgdp\")\n",
    "# plt.ylim(-0.1e5, 0.1e5)\n",
    "print(sum(np.array(dgdp_finite) - np.array(dgdp_values)) / len(dgdp_finite))\n",
    "plt.legend()\n",
    "plt.grid()\n",
    "plt.show()"
   ]
  },
  {
   "cell_type": "code",
   "execution_count": null,
   "id": "629f577f",
   "metadata": {},
   "outputs": [],
   "source": []
  }
 ],
 "metadata": {
  "kernelspec": {
   "display_name": "Python 3 (ipykernel)",
   "language": "python",
   "name": "python3"
  },
  "language_info": {
   "codemirror_mode": {
    "name": "ipython",
    "version": 3
   },
   "file_extension": ".py",
   "mimetype": "text/x-python",
   "name": "python",
   "nbconvert_exporter": "python",
   "pygments_lexer": "ipython3",
   "version": "3.11.3"
  }
 },
 "nbformat": 4,
 "nbformat_minor": 5
}
